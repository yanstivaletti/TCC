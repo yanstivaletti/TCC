{
 "cells": [
  {
   "cell_type": "code",
   "execution_count": 2,
   "id": "47269a03",
   "metadata": {},
   "outputs": [
    {
     "name": "stdout",
     "output_type": "stream",
     "text": [
      "Retrieving notices: ...working... done\n",
      "Collecting package metadata (current_repodata.json): ...working... done\n",
      "Solving environment: ...working... done\n",
      "\n",
      "# All requested packages already installed.\n",
      "\n",
      "\n",
      "Note: you may need to restart the kernel to use updated packages.\n"
     ]
    },
    {
     "name": "stderr",
     "output_type": "stream",
     "text": [
      "\n",
      "\n",
      "==> WARNING: A newer version of conda exists. <==\n",
      "  current version: 23.7.4\n",
      "  latest version: 24.3.0\n",
      "\n",
      "Please update conda by running\n",
      "\n",
      "    $ conda update -n base -c defaults conda\n",
      "\n",
      "Or to minimize the number of packages updated during conda update use\n",
      "\n",
      "     conda install conda=24.3.0\n",
      "\n",
      "\n"
     ]
    }
   ],
   "source": [
    "conda install -c conda-forge wordcloud"
   ]
  },
  {
   "cell_type": "code",
   "execution_count": 3,
   "id": "8833696d",
   "metadata": {},
   "outputs": [
    {
     "data": {
      "text/html": [
       "<div>\n",
       "<style scoped>\n",
       "    .dataframe tbody tr th:only-of-type {\n",
       "        vertical-align: middle;\n",
       "    }\n",
       "\n",
       "    .dataframe tbody tr th {\n",
       "        vertical-align: top;\n",
       "    }\n",
       "\n",
       "    .dataframe thead th {\n",
       "        text-align: right;\n",
       "    }\n",
       "</style>\n",
       "<table border=\"1\" class=\"dataframe\">\n",
       "  <thead>\n",
       "    <tr style=\"text-align: right;\">\n",
       "      <th></th>\n",
       "      <th>curso</th>\n",
       "      <th>resposta1</th>\n",
       "      <th>resposta2</th>\n",
       "      <th>campo_aberto</th>\n",
       "    </tr>\n",
       "  </thead>\n",
       "  <tbody>\n",
       "    <tr>\n",
       "      <th>0</th>\n",
       "      <td>Ciência da Computação</td>\n",
       "      <td>os professores não se esforçam em sua maioria ...</td>\n",
       "      <td>NaN</td>\n",
       "      <td>NaN</td>\n",
       "    </tr>\n",
       "    <tr>\n",
       "      <th>1</th>\n",
       "      <td>Ciência da Computação</td>\n",
       "      <td>NaN</td>\n",
       "      <td>É um sentimento torturante e constante de inva...</td>\n",
       "      <td>NaN</td>\n",
       "    </tr>\n",
       "    <tr>\n",
       "      <th>2</th>\n",
       "      <td>Ciência da Computação</td>\n",
       "      <td>Meu objetivo profissional; apesar de certas ve...</td>\n",
       "      <td>A FACOM é a maior inimiga da formação de qualq...</td>\n",
       "      <td>NaN</td>\n",
       "    </tr>\n",
       "    <tr>\n",
       "      <th>3</th>\n",
       "      <td>Ciência da Computação</td>\n",
       "      <td>Curso maluco</td>\n",
       "      <td>NaN</td>\n",
       "      <td>NaN</td>\n",
       "    </tr>\n",
       "    <tr>\n",
       "      <th>4</th>\n",
       "      <td>Ciência da Computação</td>\n",
       "      <td>Falta de Tempo; Pressão; Falta de apoio para i...</td>\n",
       "      <td>NaN</td>\n",
       "      <td>NaN</td>\n",
       "    </tr>\n",
       "  </tbody>\n",
       "</table>\n",
       "</div>"
      ],
      "text/plain": [
       "                   curso                                          resposta1  \\\n",
       "0  Ciência da Computação  os professores não se esforçam em sua maioria ...   \n",
       "1  Ciência da Computação                                                NaN   \n",
       "2  Ciência da Computação  Meu objetivo profissional; apesar de certas ve...   \n",
       "3  Ciência da Computação                                       Curso maluco   \n",
       "4  Ciência da Computação  Falta de Tempo; Pressão; Falta de apoio para i...   \n",
       "\n",
       "                                           resposta2 campo_aberto  \n",
       "0                                                NaN          NaN  \n",
       "1  É um sentimento torturante e constante de inva...          NaN  \n",
       "2  A FACOM é a maior inimiga da formação de qualq...          NaN  \n",
       "3                                                NaN          NaN  \n",
       "4                                                NaN          NaN  "
      ]
     },
     "execution_count": 3,
     "metadata": {},
     "output_type": "execute_result"
    }
   ],
   "source": [
    "#import necessary libraries\n",
    "\n",
    "#for importing data and wrangling\n",
    "import pandas as pd\n",
    "import numpy as np\n",
    "\n",
    "#for plotting images & adjusting colors\n",
    "import matplotlib.pyplot as plt\n",
    "import matplotlib as mpl\n",
    "from wordcloud import WordCloud, STOPWORDS, ImageColorGenerator\n",
    "from PIL import Image\n",
    "\n",
    "# read in the data\n",
    "df = pd.read_csv('worditout.csv', encoding=\"cp1252\")\n",
    "\n",
    "df.head()"
   ]
  },
  {
   "cell_type": "code",
   "execution_count": 4,
   "id": "914c0eaf",
   "metadata": {},
   "outputs": [],
   "source": [
    "#filter the df to one candidate, and create a list of responses from them\n",
    "text1 = df[\"resposta1\"].str.cat(sep=' ') \n",
    "text2 = df[\"resposta2\"].str.cat(sep=' ')\n",
    "text3 = df[\"campo_aberto\"].str.cat(sep=' ') \n",
    "text = text1 + text2 + text3"
   ]
  },
  {
   "cell_type": "code",
   "execution_count": 30,
   "id": "e13ff121",
   "metadata": {
    "scrolled": true
   },
   "outputs": [
    {
     "data": {
      "text/plain": [
       "'os professores não se esforçam em sua maioria para levar em conta a vida dos alunos Meu objetivo profissional; apesar de certas vezes abalado; me tranquiliza com relação ao futuro; passando então as barreiras acadêmicas que a faculdade coloca; assim como a vivência em si por eu saber ser temporária; Curso maluco Falta de Tempo; Pressão; Falta de apoio para ingressar no mercado (temporário) O sentimento de incapacidade é constante; evito me matricular em certas disciplinas devido a alguns docentes que não seguem as normas da graduação; è como se o curso fosse de apenas alguns professores; nada é feito a respeito e no caso de levar o assunto a coordenação nenhuma medida é tomada; então após realizar um novo vestibular para reingresso no curso; faltando apenas 4 disciplinas eu vou aguardar 2 anos (4 semestres) até ter o rodízio de docente para me matricular nas duas que faltam e concluir o curso!Já recebi mensagem no Messenger de professor falando “ não corrigi às provas e se ficar mandando e-mail/mensagem eu vou fazer a correção na má vontade”- “professor que não aceitou atestado médico por falar que o CID não condiz com a doença que estava descrita no atestado” e ao levar na coordenação a resposta foi; o professor quem avalia os atestados com isso eu perdi o direito de realizar a P2 e reprovei;Professor que fala no primeiro dia de aula “você mais uma vez? Ainda não desistiu ?Você já sabe que não vai ser aprovado;Professor que disse; que aos  aprovados com a pontuação mínima 60p; e comemorou lembre-se que vai trabalhar em um porão e seus colegas em grandes empresas! Enfim a Facom è de longe a instituição mais tóxica que tem na UFU; sem dúvidas!           Digo isso com relação a já ter cursado Biomedicina aqui na Ufu e ver um ambiente acadêmico totalmente acolhedor e diferente do que é visto aqui; a maioria assim como eu trabalha o dia inteiro; para chegar à noite e ser constante humilhado por docentes que se acham seres superiores de todo o resto da humanidade; pensam da seguinte maneira ou estuda ou trabalha; minha disciplina requer 30h de estudo semanal; como se todos tivessem escolha de não trabalhar durante a graduação e se sustentar com a bolsa do pet (400 reais) como se tivesse vagas para todo mundo né!Mas enfim; graças a Deus depois de muitos anos; estou perto de concluir e me ver livre dessa tortura; De modo geral não afeta; Entretanto existe alguns momentos de grande pressão por conta de diversos compromissos; o que torna \\'normal\\' o sofrimento mental por conta da demanda; A questão aborda apenas sofrimento mental e não sua natureza; nunca sofri assédio na FACOM porém sabemos que a universidade é um lugar estressante com muitas cobranças algumas em específico quase impossíveis de se atingir; na minha opinião quem marcar 1 nessa questão anterior ou é mentiroso ou está sofrendo tanto que não consegue mais visualizar sua própria realidade; A faculdade afeta sim meu sofrimento mental; mas não por violências sofridas; Sou afetada mais pelo fato da dificuldade que às vezes enfrento em encontrar motivação e entendimento sobre determinadas disciplinas; O ambiente universitário é bem tranquilo e já vi coisas bem mais piores do que o que acontece na UFU; Não necessariamente atrelado à faculdade; talvez seja a pressão da vida adulta como um todo; mas depois da pandemia só piorou a saúde mental Me sinto muito pressionado pelas atividades e tenho poucas amigas; mas acho que mais porque tenho dificuldade em me socializar Pressão de alguns professores em específico e má administração da matéria Não é em relação à faculdade em si; mas sim o peso de estar na faculdade e as pressões sociais que envolvem essa fase da vida Já entrei na faculdade com uma maturidade que permite com que as coisas da faculdade não me afetem  insegurança quanto à aparência e personalidade (não relacionado a meu gênero e sexualidade) Tive experiências muito negativas durante as aulas remotas que aconteceram por 2 anos; Além da pandemia estar rolando; alguns professores não tiveram o cuidado com a saúde mental dos alunos; e conduziram as matérias de forma muito desgastante; Cobrança exarcebada junto com trabalho/estagio  É difícil; lidar com tudo ao mesmo tempo Crises de ansiedade; depressao; A faculdade mesmo sendo um ambiente maravilhoso que promove o estudo; infelizmente gera também muita pressão e infelicidade; Tem muitos professores que propositalmente usam seu poder para fazer o aluno sofrer; fazendo atividades de nível superior; usando linguagem pejorativa e depreciativa (já ouvi que \"você tem que ser burro\"; se não entende a matéria ou \"você é muito chata\" se faz alguma pergunta) e como mulher teve vezes que senti que recebia tratamento diferente dos demais alunos; como ser chamada no canto e ser chamada frequentemente na aula; Principalmente devido a questão de não se sentir parte em alguns ambientes e desgaste após ingresso na graduação  Ingressei no curso de Ciência da Computação em 2015; sofri muito pressão e descaso; saí do curso em 2018 e retornei ao curso de Sistemas de Informação em 2021; nesse meio tempo desenvolvi ansiedade e depressão; Sinto muito desgaste mental com a faculdade devido a dificuldade de organizar matérias que possam me permitir ter mais lazer e conforto;até hoje o acompanhamento que faço com minha psicóloga deve ser mudado de horário a cada semestre se sobra tempo para formar no tempo sugeridoabandono completamente meus hobbies e sinto que a faculdade me obriga a aprender em um molde que não condiz com minha forma de aprendizado devido a regras e burocraciasEm alguns momentos acreditei que professores faziam escolhas de apresentação em dias que favoreçam a minha falta Sinto também que a faculdade também não entende a dinâmica de estudar e trabalhar e não se interessa em montar práticas para convívio harmônico de ambas as atividades Tudo isso me sobrecarrega Acredito que tem professor que cobra matéria como se fosse único no semestre ; sendo necessário até deixar algumas para trás e focar nas mesmas; Principalmente para quem já trabalha; O ambiente é majoritariamente masculino e heteronormativo; na maioria das vezes não me sinto incluído; e até rejeitado; por conta da minha sexualidade  O ambiente de aula e de convivência dentro da computação me deixa extremamente desconfortável; onde não posso ser quem eu sou sem me preocupar e não me sinto representada na faculdade A pergunta deixou um pouco aberta as situações de sofrimento mental; então apontaria os problemas com professores; os quais colocam uma pressão e dificuldade em sua disciplina muito além do necessário; colocando trabalhos gigantescos com tempos curtíssimos; exigindo o aprendizado extremamente rápido lançando enormes quantidades de conteúdos para os alunos; dar provas extremamente complexas e difíceis; muito além do passado em sala de aula; Em resumo; estudar na faculdade de computação é de altíssimo sofrimento mental por não me sentir apoiado pelos coordenadores e professores do curso (sentir inclusive que eles tentam atrapalhar a trajetória dos alunos);  Estou no sexto período e ainda tenho dificuldades para me adaptar ao ambiente da computação; tanto em relação a professores quando em relação aos colegas (maioria homens); Logo; não considero um ambiente saudável; Só persisto por estar no fim; ainda que o restante do curso represente muita coisa; uma carga de exigência muito grande; Não é um ambiente que me traz alegria e satisfação; Mas continuo lá por uma obrigação que estabeleci comigo mesma; nunca presenciei momentos de violencia na facom;É um sentimento torturante e constante de invalidação; É como se não importasse o quanto eu me esforço; o quanto levo minha oportunidade a sério e  o quanto me dedico para tal; eu ainda ficarei com tarefas previamente definidas; Essas; geralmente; relacionadas a cargos e atribuições \"inferiores\" ou de menor relevância para o restante; como em trabalhos e reuniões em grupos; por exemplo; Isso me atrapalha porque fico com receio de entrar em projetos e \"tomar frente\" às decisões de maior impacto; uma vez que já esperam que eu não vá conseguir; Já me senti (e ainda me sinto) muito insuficiente para fazer parte de programas de tutoria; como o PET do próprio curso (BCC) porque meu CRA não é tão alto; A FACOM é a maior inimiga da formação de qualquer aluno de sua faculdade; com métodos arcaicos e não condizentes com aplicações práticas atuais (de acordo com a minha grade; pelo menos) Professores são totalmente isentos de qualquer fala seja ela racista; machista ou capacitista; vi casos de professores em aula com alunos surdos; simplesmente ignorar o aluno e o dele intérprete como se não fosse o oficio dele ensinar seja lá quem for;Enfim a Facom precisa de muitos reparos em relação a didática; sanções aos professores (que hoje não existe e se existe jamais foram aplicadas); porque é impossível dizer que a desistência do curso em 100% dos casos é apenas um descaso dos alunos; Nunca presenciou ou ouvi falar de abusos sexuais na FACOM mas já vi em outros cursos; eu votei 4 na questão anterior pois de certa forma ouvir sobre esses casos próximos me deixa um pouco desconfortável e ansioso pelas minhas colegas e amigas; Me considero uma pessoa bastante privilegiada por nunca ter sofrido nenhum ataque ou abuso direto; Mas moldei meu comportamento na faculdade para evitar sofrer tais abusos; me isolando em todas as atividades acadêmicas; O ambiente é satisfatório mas falta mais atenção e monitorias para ajuda psicológica aos estudantes principalmente no momento do fato ocorrido; antes de ocorrer a sedimentação do problema ou trauma vivido; Sinto que a faculdade quer que vc termine o curso; porém existem professores que são muito ruins e que tem descaso pelos alunos ou parece que só quer \"ferrar\" todo mundo; Além de que é muito difícil passar nas matérias com tranquilidade antes do final do semestre onde tudo fica muito difícil e cansativo; Não há muito o que se fazer nesse tipo de caso; apenas seguir em frente e tentar terminar  Nunca passei por nenhum caso de abuso moral e sexual;  mas com certeza o fato de ver poucas mulheres na computação acaba; mesmo que minimamente; desmotivando meus estudos; Ex;: esses dias vi um vídeo de uma moça que estava formando em alguma graduação da área de TI (não sei de qual cidade/faculdade) e ela era a única mulher da turma; Principalmente por parte de professores os quais acreditam ter o poder de agir e falar com preconceito contra os alunos; criando um coimanem sala de aula pesado e repulsivo; o qual instiga a mim e a meus colegas a pensar na desistência da vaga; Frases preconceituosas; questionamentos com viés de zombar do aluno; entre outras atitudes que oprimem e perpetuam o preconceito e mal estar dentro das salas de aula; As atitudes de alguns professores e colegas não impactam tanto a qualidade dos meus estudos; Porém; me desmotivam bastante a realizar outras atividades dentro da universidade; Venho de outra graduação na UFU (veterinária) e lá eu participei do PET; monitorias; iniciação científica; O ambiente da FACOM não me motiva a isso; pois representaria um \"tempo maior\" presente na faculdade; Muito auxilio da coordenação e professores Já no segundo dia letivo; os \"veteranos\" compartilham em grupo do whatsapp mensagens e questionários muito inadequados de cunho sexual e discriminatório; Além de emojis e figurinhas com conotação homofóbica e agressiva; Tenho alguns prints; mas acredito que em maior parte as mensagens não foram apagadas dentro do prazo de \"apagar para todos\" e ainda estão lá; podendo ser verificadas; Eu não vejo muitas campanhas e nem uma área específica dentro da FACOM de apoio as vítimas de assédio; então é complicado discutir sobre quantas vítimas sofreram assédio e não encontrarmos soluções para evitar e mitigar os impactos; se já existe algum canal exclusivo para esse tema na FACOM então não está funcionando como deveria pois poucos sabem de sua existência; Acredito que não ocorra uma violência mas o estudante pode não ter sido preparado para entender a vida adulta e suas sutilezas e absurdos;O ideal é ter um sistema em tempo real que auxilie o estudante quando o mesmo sentir que foi violentado de alguma maneira; Acredito que sofro menos violência no geral pois sou um homem bissexual que namora uma mulher; e; como é um ambiente composto majoritariamente por homens; prefiro não ser tão aberto sobre minha sexualidade; Acredito que se esse não fosse o caso; com certeza seria mais excluído aqui; Primeiramente; nos meus dois primeiros períodos na FACOM; quando ainda não era integrado totalmente com as pessoas do curso; tinha um único amigo próximo que propagava constantemente falas extremamente homofóbicas e transfóbicas; mesmo eu sendo assumidamente gay para as pessoas da faculdade desde meu ingresso; Não possuo mais contato com o indivíduo; mas tais falas me afetaram profundamente; principalmente sendo minha primeira experiência no meio da computação; Além disso; um caso que não ocorreu comigo; mas com muitos atuais amigos; é de um professor do curso de Ciência da Computação; que frequentemente apresenta comentários machistas; racistas e homofóbicos contra os alunos; além de não proporcionar um ambiente confortável; psicologicamente falando; para nenhum deles; por estar no começo da minha graduação; não sofri essas violências; mas tenho consciência de que isso acontece com frequência a várias minorias todos os dias na nossa instituição;  '"
      ]
     },
     "execution_count": 30,
     "metadata": {},
     "output_type": "execute_result"
    }
   ],
   "source": [
    "text"
   ]
  },
  {
   "cell_type": "code",
   "execution_count": 5,
   "id": "81e98314",
   "metadata": {},
   "outputs": [],
   "source": [
    "stopwords = set(STOPWORDS)\n",
    "new_words = [\"da\",\"meu\",\"ao\",\"os\",\"o\",\"a\",\"para\",\"e\",\"que\",\"como\",\"se\",\"sua\",\"ter\",\"tem\",\n",
    "             \"em\",\"todo\",\"então\",\"mais\",\"de\",\"e\",\"na\",\"mais\",\"um\",\"minha\",\"à\",\"apenas\",\"dos\",\n",
    "             \"por\",\"é\",\"quem\",\"estar\",\"já\",\"vezes\",\"no\",\"dia\",\"meus\",\"você\",\"isso\",\"alguma\",\"ser\",\n",
    "             \"eu\",\"até\",\"mesmo\",\"alguns\",\"uma\"]\n",
    "new_stopwords = stopwords.union(new_words)"
   ]
  },
  {
   "cell_type": "code",
   "execution_count": 12,
   "id": "b7a519f9",
   "metadata": {},
   "outputs": [
    {
     "data": {
      "text/plain": [
       "<wordcloud.wordcloud.WordCloud at 0x20430ea4210>"
      ]
     },
     "execution_count": 12,
     "metadata": {},
     "output_type": "execute_result"
    },
    {
     "data": {
      "image/png": "[encoded data removed]",
      "text/plain": [
       "<Figure size 500x300 with 1 Axes>"
      ]
     },
     "metadata": {},
     "output_type": "display_data"
    }
   ],
   "source": [
    "facom_mask = np.array(Image.open(\"facom.jpg\"))\n",
    "\n",
    "wordcloud = WordCloud(max_words=100,width = 5000,height = 5000,max_font_size=200,\n",
    "                      background_color=\"black\",mask = facom_mask, stopwords=new_stopwords).generate(text)\n",
    "\n",
    "fig, ax = plt.subplots(figsize=(10,6))\n",
    "ax.imshow(wordcloud, interpolation=\"bilinear\")\n",
    "ax.set_axis_off()\n",
    "\n",
    "plt.imshow(wordcloud);\n",
    "wordcloud.to_file(\"worditout_facom.png\")"
   ]
  },
  {
   "cell_type": "code",
   "execution_count": null,
   "id": "e02e67de",
   "metadata": {},
   "outputs": [],
   "source": [
    "os professores não se esforçam em sua maioria para levar em conta a vida dos alunos\n",
    "\n",
    "em certas disciplinas devido a alguns docentes que não seguem as normas da graduação\n",
    "\n",
    "Você já sabe que não vai ser aprovado - O professor disse;\n",
    "\n",
    " na minha opinião quem marcar 1 nessa questão\n",
    " anterior ou é mentiroso ou está sofrendo tanto que não consegue mais visualizar sua própria realidade;\n",
    "\n",
    "Tem muitos professores que propositalmente usam seu poder para fazer o aluno sofrer; fazendo atividades de nível superior; usando linguagem pejorativa e \n",
    " depreciativa (já ouvi que \"você tem que ser burro\"; se não entende a matéria ou \"você é muito chata\" se faz alguma pergunta) e como mulher teve vezes que\n",
    " senti que recebia tratamento diferente dos demais alunos;\n",
    "\n",
    "a faculdade me obriga a aprender em um molde que não condiz com minha forma de aprendizado\n",
    "\n",
    " Ingressei no curso de Ciência da Computação em 2015; sofri muito pressão\n",
    " e descaso; saí do curso em 2018 e retornei ao curso de Sistemas de Informação em 2021;\n",
    "\n",
    "porém existem professores que são muito ruins e que tem descaso pelos alunos ou parece que só quer \"ferrar\" todo mundo;"
   ]
  }
 ],
 "metadata": {
  "kernelspec": {
   "display_name": "Python 3 (ipykernel)",
   "language": "python",
   "name": "python3"
  },
  "language_info": {
   "codemirror_mode": {
    "name": "ipython",
    "version": 3
   },
   "file_extension": ".py",
   "mimetype": "text/x-python",
   "name": "python",
   "nbconvert_exporter": "python",
   "pygments_lexer": "ipython3",
   "version": "3.11.5"
  }
 },
 "nbformat": 4,
 "nbformat_minor": 5
}
