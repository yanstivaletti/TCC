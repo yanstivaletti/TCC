{
 "cells": [
  {
   "cell_type": "code",
   "execution_count": 1,
   "id": "514fad5c",
   "metadata": {},
   "outputs": [],
   "source": [
    "import pandas as pd\n",
    "\n",
    "# Carregar o arquivo Excel\n",
    "df = pd.read_excel('com_autoridade.xlsx')\n",
    "\n",
    "# Lista de opções do checkbox\n",
    "opcoes_checkbox = ['Piadas machistas', 'Comentários de natureza sexual', 'Olhares ou gestos sugestivos indesejados','Mensagens ou ligações telefônicas indesejadas','Convites indesejados','Toques indesejados','Insistência para encontro sexuais indesejados','Piadas de cunho discriminatório (ex: homofóbicas, transfóbicas, entre outras)','Sofreu crítica ao seu trabalho de forma injusta ou demasiada por conta do seu gênero ou sexualidade.','Atribuição proposital e sistemática de tarefas inferiores ou superiores às suas competências','Isolamento do restante do grupo','Ignorar sua presença, e dirigir-se apenas aos outros','Ser desacreditada/o diante dos colegas, superiores ou subordinados','Ameaçada/o de violência física','Agredida/o fisicamente','Elogiavam constantemente seus atributos físicos de forma constrangedora']  # Substitua com suas opções\n",
    "\n",
    "# Iterar sobre as opções e criar colunas binárias\n",
    "for opcao in opcoes_checkbox:\n",
    "    # Criar uma nova coluna com 1 se a opção estiver presente na resposta, 0 caso contrário\n",
    "    df[opcao] = df['Respostas'].apply(lambda x: 1 if opcao in str(x) else 0)\n",
    "\n",
    "# Salvar o DataFrame resultante em um novo arquivo Excel\n",
    "df.to_excel('respostas_transformadas.xlsx', index=False)"
   ]
  },
  {
   "cell_type": "code",
   "execution_count": 2,
   "id": "d8922161",
   "metadata": {},
   "outputs": [],
   "source": [
    "import pandas as pd\n",
    "\n",
    "# Carregar o arquivo Excel\n",
    "df = pd.read_excel('sem_autoridade.xlsx')\n",
    "\n",
    "# Lista de opções do checkbox\n",
    "opcoes_checkbox = ['Piadas machistas', 'Comentários de natureza sexual', 'Olhares ou gestos sugestivos indesejados','Mensagens ou ligações telefônicas indesejadas','Convites indesejados','Toques indesejados','Insistência para encontro sexuais indesejados','Piadas de cunho discriminatório (ex: homofóbicas, transfóbicas, entre outras)','Sofreu crítica ao seu trabalho de forma injusta ou demasiada por conta do seu gênero ou sexualidade.','Atribuição proposital e sistemática de tarefas inferiores ou superiores às suas competências','Isolamento do restante do grupo','Ignorar sua presença, e dirigir-se apenas aos outros','Ser desacreditada/o diante dos colegas, superiores ou subordinados','Ameaçada/o de violência física','Agredida/o fisicamente','Elogiavam constantemente seus atributos físicos de forma constrangedora']  # Substitua com suas opções\n",
    "\n",
    "# Iterar sobre as opções e criar colunas binárias\n",
    "for opcao in opcoes_checkbox:\n",
    "    # Criar uma nova coluna com 1 se a opção estiver presente na resposta, 0 caso contrário\n",
    "    df[opcao] = df['Respostas'].apply(lambda x: 1 if opcao in str(x) else 0)\n",
    "\n",
    "# Salvar o DataFrame resultante em um novo arquivo Excel\n",
    "df.to_excel('respostas_transformadas_sem.xlsx', index=False)"
   ]
  },
  {
   "cell_type": "code",
   "execution_count": null,
   "id": "eb4de6f8",
   "metadata": {},
   "outputs": [],
   "source": []
  }
 ],
 "metadata": {
  "kernelspec": {
   "display_name": "Python 3 (ipykernel)",
   "language": "python",
   "name": "python3"
  },
  "language_info": {
   "codemirror_mode": {
    "name": "ipython",
    "version": 3
   },
   "file_extension": ".py",
   "mimetype": "text/x-python",
   "name": "python",
   "nbconvert_exporter": "python",
   "pygments_lexer": "ipython3",
   "version": "3.11.5"
  }
 },
 "nbformat": 4,
 "nbformat_minor": 5
}
