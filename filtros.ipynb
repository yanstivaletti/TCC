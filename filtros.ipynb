{
 "cells": [
  {
   "cell_type": "code",
   "execution_count": 1,
   "id": "defdf3c1",
   "metadata": {},
   "outputs": [
    {
     "name": "stdout",
     "output_type": "stream",
     "text": [
      "Linhas removidas: 6\n",
      "Planilha filtrada salva em 'planilha_filtrada.xlsx'\n"
     ]
    }
   ],
   "source": [
    "import pandas as pd\n",
    "\n",
    "# Carregue o arquivo Excel\n",
    "nome_arquivo_excel = 'analise.xlsx'\n",
    "df = pd.read_excel(nome_arquivo_excel)\n",
    "\n",
    "# Calcula o número mínimo de colunas vazias para manter uma linha\n",
    "num_colunas = len(df.columns)\n",
    "limite_colunas_vazias = num_colunas // 2\n",
    "\n",
    "# Filtra as linhas que têm pelo menos o número mínimo de colunas vazias\n",
    "df_filtrado = df[df.isna().sum(axis=1) <= limite_colunas_vazias]\n",
    "\n",
    "# Salva o DataFrame filtrado em um novo arquivo Excel\n",
    "nome_arquivo_saida = 'planilha_filtrada.xlsx'\n",
    "df_filtrado.to_excel(nome_arquivo_saida, index=False)\n",
    "\n",
    "print(f\"Linhas removidas: {len(df) - len(df_filtrado)}\")\n",
    "print(f\"Planilha filtrada salva em '{nome_arquivo_saida}'\")"
   ]
  },
  {
   "cell_type": "code",
   "execution_count": 2,
   "id": "2ecaa810",
   "metadata": {},
   "outputs": [
    {
     "name": "stdout",
     "output_type": "stream",
     "text": [
      "Colunas textuais salvas em 'colunas_textuais.xlsx'\n",
      "Colunas categóricas salvas em 'colunas_categoricas.xlsx'\n",
      "Colunas numéricas salvas em 'colunas_numericas.xlsx'\n"
     ]
    }
   ],
   "source": [
    "# Carregue o arquivo Excel\n",
    "nome_arquivo_excel = 'planilha_filtrada.xlsx'\n",
    "df = pd.read_excel(nome_arquivo_excel)\n",
    "\n",
    "# Separe as colunas por tipo de dados (textual, categórico e numérico)\n",
    "colunas_textuais = []\n",
    "colunas_categoricas = []\n",
    "colunas_numericas = []\n",
    "\n",
    "for coluna in df.columns:\n",
    "    if df[coluna].dtype == 'object':\n",
    "        colunas_textuais.append(coluna)\n",
    "    elif df[coluna].dtype == 'int64' or df[coluna].dtype == 'float64':\n",
    "        colunas_numericas.append(coluna)\n",
    "    else:\n",
    "        colunas_categoricas.append(coluna)\n",
    "\n",
    "# Crie novos DataFrames para cada tipo de coluna\n",
    "df_textual = df[colunas_textuais]\n",
    "df_categorico = df[colunas_categoricas]\n",
    "df_numerico = df[colunas_numericas]\n",
    "\n",
    "# Salve os DataFrames separados em arquivos Excel separados\n",
    "nome_arquivo_textual = 'colunas_textuais.xlsx'\n",
    "nome_arquivo_categorico = 'colunas_categoricas.xlsx'\n",
    "nome_arquivo_numerico = 'colunas_numericas.xlsx'\n",
    "\n",
    "df_textual.to_excel(nome_arquivo_textual, index=False)\n",
    "df_categorico.to_excel(nome_arquivo_categorico, index=False)\n",
    "df_numerico.to_excel(nome_arquivo_numerico, index=False)\n",
    "\n",
    "print(f\"Colunas textuais salvas em '{nome_arquivo_textual}'\")\n",
    "print(f\"Colunas categóricas salvas em '{nome_arquivo_categorico}'\")\n",
    "print(f\"Colunas numéricas salvas em '{nome_arquivo_numerico}'\")"
   ]
  },
  {
   "cell_type": "code",
   "execution_count": null,
   "id": "8757609e",
   "metadata": {},
   "outputs": [],
   "source": [
    "# Carregue o arquivo Excel\n",
    "nome_arquivo_excel = 'sua_planilha.xlsx'\n",
    "df = pd.read_excel(nome_arquivo_excel)\n",
    "\n",
    "# Verifique se a coluna de e-mails existe no DataFrame\n",
    "coluna_email = 'Email'  # Substitua 'Email' pelo nome da coluna de e-mails\n",
    "\n",
    "if coluna_email in df.columns:\n",
    "    # Crie uma nova planilha com a coluna de e-mails removida\n",
    "    df_sem_email = df.drop(columns=[coluna_email])\n",
    "\n",
    "    # Extraia os e-mails removidos para uma lista\n",
    "    emails_removidos = df[coluna_email].tolist()\n",
    "\n",
    "    # Salve os e-mails removidos em um arquivo separado\n",
    "    arquivo_emails_removidos = 'emails_removidos.txt'\n",
    "    with open(arquivo_emails_removidos, 'w') as file:\n",
    "        file.write('\\n'.join(emails_removidos))\n",
    "\n",
    "    # Salve o DataFrame sem a coluna de e-mails em um novo arquivo Excel\n",
    "    nome_arquivo_saida = 'planilha_sem_email.xlsx'\n",
    "    df_sem_email.to_excel(nome_arquivo_saida, index=False)\n",
    "\n",
    "    print(f\"Coluna de e-mails removida e salva em '{nome_arquivo_saida}'\")\n",
    "    print(f\"E-mails removidos salvos em '{arquivo_emails_removidos}'\")\n",
    "else:\n",
    "    print(\"A coluna de e-mails não foi encontrada na planilha.\")"
   ]
  },
  {
   "cell_type": "code",
   "execution_count": 1,
   "id": "edd5a9c2",
   "metadata": {},
   "outputs": [
    {
     "name": "stdout",
     "output_type": "stream",
     "text": [
      "Conversão concluída: 'planilha_filtrada.xlsx' para 'planilha_filtrada_csv.csv'\n"
     ]
    }
   ],
   "source": [
    "import pandas as pd\n",
    "\n",
    "def excel_to_csv(arquivo_excel, arquivo_csv, folha='Sheet1'):\n",
    "    try:\n",
    "        # Carregue o arquivo Excel\n",
    "        df = pd.read_excel(arquivo_excel, sheet_name=folha)\n",
    "\n",
    "        # Salve o DataFrame em um arquivo CSV\n",
    "        df.to_csv(arquivo_csv, index=False)\n",
    "\n",
    "        print(f\"Conversão concluída: '{arquivo_excel}' para '{arquivo_csv}'\")\n",
    "    except Exception as e:\n",
    "        print(f\"Erro durante a conversão: {e}\")\n",
    "\n",
    "# Substitua 'seu_arquivo.xlsx' pelo nome do seu arquivo Excel de entrada\n",
    "arquivo_excel_entrada = 'planilha_filtrada.xlsx'\n",
    "\n",
    "# Substitua 'arquivo_saida.csv' pelo nome desejado para o arquivo CSV de saída\n",
    "arquivo_csv_saida = 'planilha_filtrada_csv.csv'\n",
    "\n",
    "# Substitua 'Sheet1' pelo nome da folha que você deseja converter (pode variar dependendo do seu arquivo)\n",
    "folha_para_converter = 'Sheet1'\n",
    "\n",
    "# Chame a função para realizar a conversão\n",
    "excel_to_csv(arquivo_excel_entrada, arquivo_csv_saida, folha_para_converter)"
   ]
  },
  {
   "cell_type": "code",
   "execution_count": null,
   "id": "e3f92cc5",
   "metadata": {},
   "outputs": [],
   "source": []
  }
 ],
 "metadata": {
  "kernelspec": {
   "display_name": "Python 3 (ipykernel)",
   "language": "python",
   "name": "python3"
  },
  "language_info": {
   "codemirror_mode": {
    "name": "ipython",
    "version": 3
   },
   "file_extension": ".py",
   "mimetype": "text/x-python",
   "name": "python",
   "nbconvert_exporter": "python",
   "pygments_lexer": "ipython3",
   "version": "3.11.5"
  }
 },
 "nbformat": 4,
 "nbformat_minor": 5
}
