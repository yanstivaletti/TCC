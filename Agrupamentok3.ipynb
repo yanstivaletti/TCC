{
 "cells": [
  {
   "cell_type": "code",
   "execution_count": 6,
   "metadata": {
    "dotnet_interactive": {
     "language": "csharp"
    },
    "polyglot_notebook": {
     "kernelName": "csharp"
    },
    "vscode": {
     "languageId": "polyglot-notebook"
    }
   },
   "outputs": [],
   "source": [
    "import pandas as pd\n",
    "import matplotlib.pyplot as plt\n",
    "from sklearn.metrics import silhouette_score\n",
    "from openpyxl import Workbook\n",
    "\n",
    "# Ler o arquivo CSV\n",
    "data = pd.read_csv('Escala_k3_ns.csv' , encoding='latin-1')\n",
    "\n",
    "# Separar os clusters\n",
    "cluster_0 = data[data['Cluster'] == 'cluster0']\n",
    "cluster_1 = data[data['Cluster'] == 'cluster1']\n",
    "cluster_2 = data[data['Cluster'] == 'cluster2']"
   ]
  },
  {
   "cell_type": "code",
   "execution_count": 7,
   "id": "70724fa5",
   "metadata": {
    "vscode": {
     "languageId": "polyglot-notebook"
    }
   },
   "outputs": [],
   "source": [
    "atributos_a_avaliar = ['Curso=Sistemas de Informação','Gênero=Homem','Gênero=Queer','Gênero=Mulher','Sexualidade=Prefiro não responder','Sexualidade=Homossexual','Sexualidade=Heterossexual','Sexualidade=Pansexual','Sexualidade=Bissexual','Sexualidade=Assexual','Assédio na FACOM=Sim','VG2','VM3','VG3','VG4','VG5','VM1','VG1','VG6','IV1','IV2','VM2']\n",
    "wb = Workbook()\n",
    "ws = wb.active\n",
    "ws.append(['Atributo', 'Média Cluster 0', 'Média Cluster 1', 'Média Cluster 2'])\n",
    "\n",
    "for atributo in atributos_a_avaliar:\n",
    "    # Calcular a média do atributo em cada cluster\n",
    "    media_cluster_0 = cluster_0[atributo].mean()\n",
    "    media_cluster_1 = cluster_1[atributo].mean()\n",
    "    media_cluster_2 = cluster_2[atributo].mean()\n",
    "\n",
    "    # Mostrar os valores das médias\n",
    "    print(f'Média de \"{atributo}\" no Cluster 0: {media_cluster_0:.2f}')\n",
    "    print(f'Média de \"{atributo}\" no Cluster 1: {media_cluster_1:.2f}')\n",
    "    print(f'Média de \"{atributo}\" no Cluster 2: {media_cluster_2:.2f}')\n",
    "    \n",
    "\n",
    "    # Determinar qual cluster possui a média do atributo maior\n",
    "    if media_cluster_0 > media_cluster_1 and media_cluster_0 > media_cluster_2:\n",
    "        print(f'O Cluster 0 possui uma média maior do atributo \"{atributo}\".')\n",
    "    elif media_cluster_1 > media_cluster_0 and media_cluster_1 > media_cluster_2:\n",
    "        print(f'O Cluster 1 possui uma média maior do atributo \"{atributo}\".')\n",
    "    elif media_cluster_2 > media_cluster_0 and media_cluster_2 > media_cluster_1:\n",
    "        print(f'O Cluster 2 possui uma média maior do atributo \"{atributo}\".')\n",
    "    else:\n",
    "        print(f'A média do atributo \"{atributo}\" é igual nos três clusters.')\n",
    "    print()  # Adiciona uma linha em branco entre os resultados de diferentes atributos\n",
    "    ws.append([atributo, media_cluster_0, media_cluster_1,media_cluster_2])\n",
    "\n",
    "wb.save('medias_atributos_k3.xlsx')"
   ]
  },
  {
   "cell_type": "code",
   "execution_count": 8,
   "id": "02d23196",
   "metadata": {
    "vscode": {
     "languageId": "polyglot-notebook"
    }
   },
   "outputs": [],
   "source": []
  }
 ],
 "metadata": {
  "kernelspec": {
   "display_name": "Python 3 (ipykernel)",
   "language": "python",
   "name": "python3"
  },
  "language_info": {
   "codemirror_mode": {
    "name": "ipython",
    "version": 3
   },
   "file_extension": ".py",
   "mimetype": "text/x-python",
   "name": "python",
   "nbconvert_exporter": "python",
   "pygments_lexer": "ipython3",
   "version": "3.11.5"
  }
 },
 "nbformat": 4,
 "nbformat_minor": 5
}
